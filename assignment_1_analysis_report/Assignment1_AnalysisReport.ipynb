{
 "cells": [
  {
   "cell_type": "markdown",
   "id": "5754e08a",
   "metadata": {},
   "source": [
    "# Analysis Report\n"
   ]
  },
  {
   "cell_type": "markdown",
   "id": "772b2e99",
   "metadata": {},
   "source": [
    "d"
   ]
  },
  {
   "cell_type": "code",
   "execution_count": 15,
   "id": "78c07baf",
   "metadata": {},
   "outputs": [
    {
     "name": "stdout",
     "output_type": "stream",
     "text": [
      "Size of model_1 DataFrame: (6975, 5) (rows, columns)\n",
      "Size of model_2 DataFrame: (6969, 4) (rows, columns)\n",
      "Size of true_labels DataFrame: (8644, 3) (rows, columns)\n",
      "Model 1 DataFrame:\n",
      "      Unnamed: 0  index   file_name  age_min  age_max\n",
      "4809        4809   5221  000000.jpg      1.0      7.0\n",
      "862          862    906  000001.jpg     16.0     22.0\n",
      "3690        3690   3963  000002.jpg     72.0     80.0\n",
      "294          294    305  000003.jpg     51.0     59.0\n",
      "3869        3869   4161  000004.jpg     13.0     21.0\n",
      "\n",
      "Model 2 DataFrame:\n",
      "   Unnamed: 0  index   file_name   age\n",
      "0           0      0  000000.jpg   6.0\n",
      "1           1      1  000001.jpg  25.0\n",
      "2           2      2  000002.jpg  69.0\n",
      "3           3      3  000003.jpg  50.0\n",
      "4           4      4  000004.jpg  16.0\n",
      "\n",
      "True Labels DataFrame:\n",
      "      Unnamed: 0   file_name  real_age\n",
      "5221        5221  000000.jpg         4\n",
      "906          906  000001.jpg        18\n",
      "3963        3963  000002.jpg        80\n",
      "305          305  000003.jpg        50\n",
      "4161        4161  000004.jpg        17\n"
     ]
    }
   ],
   "source": [
    "## import pandas as pd\n",
    "\n",
    "\n",
    "# Load the CSV files into DataFrames\n",
    "model_1 = pd.read_csv('data/model_1.csv')\n",
    "model_2 = pd.read_csv('data/model_2.csv')\n",
    "true_labels = pd.read_csv('data/gt.csv')\n",
    "\n",
    "# Rename the 'path' column to 'file_name' in model_2 and sort\n",
    "model_2 = model_2.rename(columns={'path': 'file_name'})\n",
    "model_1 = model_1.sort_values(by='file_name', ascending=True)\n",
    "model_2 = model_2.sort_values(by='file_name', ascending=True)\n",
    "true_labels = true_labels.sort_values(by='file_name', ascending=True)\n",
    "\n",
    "print(f\"Size of model_1 DataFrame: {model_1.shape} (rows, columns)\")\n",
    "print(f\"Size of model_2 DataFrame: {model_2.shape} (rows, columns)\")\n",
    "print(f\"Size of true_labels DataFrame: {true_labels.shape} (rows, columns)\")\n",
    "\n",
    "# Display the first few rows of each DataFrame to verify successful loading\n",
    "print(\"Model 1 DataFrame:\")\n",
    "print(model_1.head())\n",
    "\n",
    "print(\"\\nModel 2 DataFrame:\")\n",
    "print(model_2.head())\n",
    "\n",
    "print(\"\\nTrue Labels DataFrame:\")\n",
    "print(true_labels.head())"
   ]
  },
  {
   "cell_type": "code",
   "execution_count": 13,
   "id": "42271faa",
   "metadata": {},
   "outputs": [
    {
     "name": "stdout",
     "output_type": "stream",
     "text": [
      "Do 'file_name' entries match between model_1 and model_2? False\n",
      "Do 'file_name' entries match between model_1 and true_labels? False\n",
      "Do 'file_name' entries match between model_2 and true_labels? False\n"
     ]
    }
   ],
   "source": [
    "# Check if 'file_name' matches across the DataFrames\n",
    "file_name_match_1_2 = model_1_sorted['file_name'].equals(model_2_sorted['file_name'])\n",
    "file_name_match_1_true = model_1_sorted['file_name'].equals(true_labels_sorted['file_name'])\n",
    "file_name_match_2_true = model_2_sorted['file_name'].equals(true_labels_sorted['file_name'])\n",
    "\n",
    "# Print results\n",
    "print(f\"Do 'file_name' entries match between model_1 and model_2? {file_name_match_1_2}\")\n",
    "print(f\"Do 'file_name' entries match between model_1 and true_labels? {file_name_match_1_true}\")\n",
    "print(f\"Do 'file_name' entries match between model_2 and true_labels? {file_name_match_2_true}\")"
   ]
  },
  {
   "cell_type": "code",
   "execution_count": null,
   "id": "c610728a",
   "metadata": {},
   "outputs": [],
   "source": []
  },
  {
   "cell_type": "code",
   "execution_count": null,
   "id": "bc0d20dd",
   "metadata": {},
   "outputs": [],
   "source": []
  }
 ],
 "metadata": {
  "kernelspec": {
   "display_name": "Python 3 (ipykernel)",
   "language": "python",
   "name": "python3"
  },
  "language_info": {
   "codemirror_mode": {
    "name": "ipython",
    "version": 3
   },
   "file_extension": ".py",
   "mimetype": "text/x-python",
   "name": "python",
   "nbconvert_exporter": "python",
   "pygments_lexer": "ipython3",
   "version": "3.11.7"
  }
 },
 "nbformat": 4,
 "nbformat_minor": 5
}
