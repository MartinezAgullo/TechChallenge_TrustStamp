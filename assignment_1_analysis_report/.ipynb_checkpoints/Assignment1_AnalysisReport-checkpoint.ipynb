{
 "cells": [
  {
   "cell_type": "markdown",
   "id": "705c4e30",
   "metadata": {},
   "source": [
    "# Analysis Report\n"
   ]
  },
  {
   "cell_type": "markdown",
   "id": "d248c299",
   "metadata": {},
   "source": [
    "d"
   ]
  },
  {
   "cell_type": "code",
   "execution_count": 14,
   "id": "9bea70ba",
   "metadata": {},
   "outputs": [
    {
     "ename": "NameError",
     "evalue": "name 'model_1_size' is not defined",
     "output_type": "error",
     "traceback": [
      "\u001b[0;31m---------------------------------------------------------------------------\u001b[0m",
      "\u001b[0;31mNameError\u001b[0m                                 Traceback (most recent call last)",
      "Cell \u001b[0;32mIn[14], line 15\u001b[0m\n\u001b[1;32m     12\u001b[0m model_2 \u001b[38;5;241m=\u001b[39m model_2\u001b[38;5;241m.\u001b[39msort_values(by\u001b[38;5;241m=\u001b[39m\u001b[38;5;124m'\u001b[39m\u001b[38;5;124mfile_name\u001b[39m\u001b[38;5;124m'\u001b[39m, ascending\u001b[38;5;241m=\u001b[39m\u001b[38;5;28;01mTrue\u001b[39;00m)\n\u001b[1;32m     13\u001b[0m true_labels \u001b[38;5;241m=\u001b[39m true_labels\u001b[38;5;241m.\u001b[39msort_values(by\u001b[38;5;241m=\u001b[39m\u001b[38;5;124m'\u001b[39m\u001b[38;5;124mfile_name\u001b[39m\u001b[38;5;124m'\u001b[39m, ascending\u001b[38;5;241m=\u001b[39m\u001b[38;5;28;01mTrue\u001b[39;00m)\n\u001b[0;32m---> 15\u001b[0m \u001b[38;5;28mprint\u001b[39m(\u001b[38;5;124mf\u001b[39m\u001b[38;5;124m\"\u001b[39m\u001b[38;5;124mSize of model_1 DataFrame: \u001b[39m\u001b[38;5;132;01m{\u001b[39;00mmodel_1_size\u001b[38;5;132;01m}\u001b[39;00m\u001b[38;5;124m (rows, columns)\u001b[39m\u001b[38;5;124m\"\u001b[39m)\n\u001b[1;32m     16\u001b[0m \u001b[38;5;28mprint\u001b[39m(\u001b[38;5;124mf\u001b[39m\u001b[38;5;124m\"\u001b[39m\u001b[38;5;124mSize of model_2 DataFrame: \u001b[39m\u001b[38;5;132;01m{\u001b[39;00mmodel_2_size\u001b[38;5;132;01m}\u001b[39;00m\u001b[38;5;124m (rows, columns)\u001b[39m\u001b[38;5;124m\"\u001b[39m)\n\u001b[1;32m     17\u001b[0m \u001b[38;5;28mprint\u001b[39m(\u001b[38;5;124mf\u001b[39m\u001b[38;5;124m\"\u001b[39m\u001b[38;5;124mSize of true_labels DataFrame: \u001b[39m\u001b[38;5;132;01m{\u001b[39;00mtrue_labels_size\u001b[38;5;132;01m}\u001b[39;00m\u001b[38;5;124m (rows, columns)\u001b[39m\u001b[38;5;124m\"\u001b[39m)\n",
      "\u001b[0;31mNameError\u001b[0m: name 'model_1_size' is not defined"
     ]
    }
   ],
   "source": [
    "## import pandas as pd\n",
    "\n",
    "\n",
    "# Load the CSV files into DataFrames\n",
    "model_1 = pd.read_csv('data/model_1.csv')\n",
    "model_2 = pd.read_csv('data/model_2.csv')\n",
    "true_labels = pd.read_csv('data/gt.csv')\n",
    "\n",
    "# Rename the 'path' column to 'file_name' in model_2 and sort\n",
    "model_2 = model_2.rename(columns={'path': 'file_name'})\n",
    "model_1 = model_1.sort_values(by='file_name', ascending=True)\n",
    "model_2 = model_2.sort_values(by='file_name', ascending=True)\n",
    "true_labels = true_labels.sort_values(by='file_name', ascending=True)\n",
    "\n",
    "print(f\"Size of model_1 DataFrame: {model_1.shape} (rows, columns)\")\n",
    "print(f\"Size of model_2 DataFrame: {model_2.shape} (rows, columns)\")\n",
    "print(f\"Size of true_labels DataFrame: {true_labels.shape} (rows, columns)\")\n",
    "\n",
    "# Display the first few rows of each DataFrame to verify successful loading\n",
    "print(\"Model 1 DataFrame:\")\n",
    "print(model_1.head())\n",
    "\n",
    "print(\"\\nModel 2 DataFrame:\")\n",
    "print(model_2.head())\n",
    "\n",
    "print(\"\\nTrue Labels DataFrame:\")\n",
    "print(true_labels.head())"
   ]
  },
  {
   "cell_type": "code",
   "execution_count": 13,
   "id": "4d019cef",
   "metadata": {},
   "outputs": [
    {
     "name": "stdout",
     "output_type": "stream",
     "text": [
      "Do 'file_name' entries match between model_1 and model_2? False\n",
      "Do 'file_name' entries match between model_1 and true_labels? False\n",
      "Do 'file_name' entries match between model_2 and true_labels? False\n"
     ]
    }
   ],
   "source": [
    "# Check if 'file_name' matches across the DataFrames\n",
    "file_name_match_1_2 = model_1_sorted['file_name'].equals(model_2_sorted['file_name'])\n",
    "file_name_match_1_true = model_1_sorted['file_name'].equals(true_labels_sorted['file_name'])\n",
    "file_name_match_2_true = model_2_sorted['file_name'].equals(true_labels_sorted['file_name'])\n",
    "\n",
    "# Print results\n",
    "print(f\"Do 'file_name' entries match between model_1 and model_2? {file_name_match_1_2}\")\n",
    "print(f\"Do 'file_name' entries match between model_1 and true_labels? {file_name_match_1_true}\")\n",
    "print(f\"Do 'file_name' entries match between model_2 and true_labels? {file_name_match_2_true}\")"
   ]
  },
  {
   "cell_type": "code",
   "execution_count": null,
   "id": "26e378a5",
   "metadata": {},
   "outputs": [],
   "source": []
  },
  {
   "cell_type": "code",
   "execution_count": null,
   "id": "bc168b8d",
   "metadata": {},
   "outputs": [],
   "source": []
  }
 ],
 "metadata": {
  "kernelspec": {
   "display_name": "Python 3 (ipykernel)",
   "language": "python",
   "name": "python3"
  },
  "language_info": {
   "codemirror_mode": {
    "name": "ipython",
    "version": 3
   },
   "file_extension": ".py",
   "mimetype": "text/x-python",
   "name": "python",
   "nbconvert_exporter": "python",
   "pygments_lexer": "ipython3",
   "version": "3.11.7"
  }
 },
 "nbformat": 4,
 "nbformat_minor": 5
}
